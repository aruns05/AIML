{
 "cells": [
  {
   "cell_type": "code",
   "execution_count": null,
   "metadata": {},
   "outputs": [],
   "source": [
    "%pip install -q cassio datasets langchain openai tiktoken"
   ]
  },
  {
   "cell_type": "code",
   "execution_count": null,
   "metadata": {},
   "outputs": [],
   "source": [
    "from langchain.vectorstores.cassandra import Cassandra\n",
    "from langchain.indexes.vectorstore import VectorStoreIndexWrapper\n",
    "from langchain.llms import OpenAI\n",
    "from langchain.embeddings import OpenAIEmbeddings\n",
    "\n",
    "from datasets import load_dataset"
   ]
  },
  {
   "cell_type": "code",
   "execution_count": null,
   "metadata": {},
   "outputs": [],
   "source": [
    "%pip install PyPDF2"
   ]
  },
  {
   "cell_type": "code",
   "execution_count": 33,
   "metadata": {},
   "outputs": [],
   "source": [
    "from PyPDF2 import PdfReader\n",
    "from dotenv import load_dotenv\n",
    "import os\n",
    "load_dotenv()\n",
    "key = os.environ[\"OPENAI_API_KEY\"]\n",
    "ASTRA_DB_APPLICATION_TOKEN = os.environ[\"ASTRA_DB_APPLICATION_TOKEN\"]\n",
    "ASTRA_DB_ID=os.environ[\"ASTRA_DB_ID\"]\n",
    "\n"
   ]
  },
  {
   "cell_type": "code",
   "execution_count": null,
   "metadata": {},
   "outputs": [],
   "source": [
    "pdfreader = PdfReader('./pdfs/budget_speech.pdf')"
   ]
  },
  {
   "cell_type": "code",
   "execution_count": null,
   "metadata": {},
   "outputs": [],
   "source": [
    "from typing_extensions import Concatenate\n",
    "raw_text=''\n",
    "for i,page in enumerate(pdfreader.pages):\n",
    "    content=page.extract_text()\n",
    "    if content:\n",
    "       raw_text += content \n",
    "print(raw_text)"
   ]
  },
  {
   "cell_type": "code",
   "execution_count": 34,
   "metadata": {},
   "outputs": [],
   "source": [
    "import cassio \n",
    "cassio.init(token=ASTRA_DB_APPLICATION_TOKEN,database_id=ASTRA_DB_ID)"
   ]
  },
  {
   "cell_type": "code",
   "execution_count": 35,
   "metadata": {},
   "outputs": [],
   "source": [
    "\n",
    "llm = OpenAI(api_key=os.environ[\"OPENAI_API_KEY\"])\n",
    "embedding = OpenAIEmbeddings(api_key=os.environ[\"OPENAI_API_KEY\"])"
   ]
  },
  {
   "cell_type": "code",
   "execution_count": 36,
   "metadata": {},
   "outputs": [],
   "source": [
    "astra_vector_store = Cassandra(\n",
    "    embedding=embedding,\n",
    "    table_name=\"qa_mini_demo\",\n",
    "    session=None,\n",
    "    keyspace=None\n",
    ")"
   ]
  },
  {
   "cell_type": "code",
   "execution_count": 37,
   "metadata": {},
   "outputs": [
    {
     "name": "stdout",
     "output_type": "stream",
     "text": [
      "['GOVERNMENT OF INDIA\\nINTERIM BUDGET 2024-2025\\nSPEECH\\nOF\\nNIRMALA SITHARAMAN\\nMINISTER OF FINANCE\\nFebruary 1,  2024 \\nCONTENTS  \\n \\nPART – A \\n Page No.  \\nIntroduction  1 \\nInclusive Development and Growth  2 \\nSocial Justice   3  \\nExemplary  Track Record of Governance,  \\nDevelopment and Performance (GDP)  7 \\nEconomic Management  8 \\nGlobal Context  9 \\nVision for ‘Viksit Bharat’  10 \\nStrategy for  ‘Amrit Kaal’  11 \\nInfrastructure Development  17 \\nAmrit Kaal as Kartavya Kaal  22 \\nRevised Estimates 2023 -24 23 \\nBudget Estimates 2024 -25 23 \\nPART – B \\nDirect taxes  25 \\nIndirect Taxes   26 \\nEconomy – Then and Now  28 \\n  \\n  1 \\n Interim Budget 2024 -2025  \\nSpeech of  \\nNirmala Sitharaman  \\nMinister of Finance  \\nFebruary 1, 2024  \\nHon’ble Speaker,  \\n I present the Interim Budget for 2024 -25.', '1 \\n Interim Budget 2024 -2025  \\nSpeech of  \\nNirmala Sitharaman  \\nMinister of Finance  \\nFebruary 1, 2024  \\nHon’ble Speaker,  \\n I present the Interim Budget for 2024 -25.  \\nIntroduction  \\n1. The Indian  economy  has witnessed profound positive \\ntransformation in the last ten years. The people of India are \\nlooking ahead to the future with hope and optimism.  \\n2. With the blessings of the people, when our Government \\nunder the visionary and dynamic leadership of Hon’ble Prime \\nMinister Shri Narendra Modi assumed office in 2014, the country \\nwas facing enormous challenges. With ‘Sabka Saath, Sabka \\nVikas’  as its ‘mantra’ , the Government overcame those \\nchallenges in right earnest. Structural reforms were undertaken. \\nPro-people programmes were formulated and implemented', 'Vikas’  as its ‘mantra’ , the Government overcame those \\nchallenges in right earnest. Structural reforms were undertaken. \\nPro-people programmes were formulated and implemented \\npromptly. Conditions were cr eated for more opportunities for \\nemployment and entrepreneurship. The economy got a new \\nvigour. The fruits of development started reaching the people at \\nscale. The country got a new sense of purpose and hope. \\nNaturally, the people blessed the Government wi th a bigger \\nmandate.  2 \\n 3. In the second term, our Government under the leadership \\nof Hon’ble Prime Minister doubled down on its responsibilities to \\nbuild a prosperous country with comprehensive development of \\nall people and all regions. Our Government strengthened its', 'of Hon’ble Prime Minister doubled down on its responsibilities to \\nbuild a prosperous country with comprehensive development of \\nall people and all regions. Our Government strengthened its \\n‘mantra’  to ‘Sabka Saath, Sabka Vikas, and Sabka Vishwas’. Our \\ndevelopment philosophy covered all elements of inclusivity, \\nnamely,  \\n\\uf0b7 social inclusivity through coverage of all strata of the \\nsociety, and  \\n\\uf0b7 geographical  inclusivity through development of all \\nregions of the country.   \\n4. With the ‘whole of nation’ approach of ‘Sabka Prayas’, t he \\ncountry overcame the challenge of a once -in-a-century \\npandemic, took long strides towards ‘Atmanirbhar Bharat’, \\ncommitted to ‘Panch  Pran’ , and laid solid foundations for the  \\n‘Amrit Kaal’. As a result, our young country has high aspiration s,', 'pandemic, took long strides towards ‘Atmanirbhar Bharat’, \\ncommitted to ‘Panch  Pran’ , and laid solid foundations for the  \\n‘Amrit Kaal’. As a result, our young country has high aspiration s, \\npride in its present, and hope and confidence for a bright future. \\nWe expect that our Government , based on  its stupendous work , \\nwill be blessed ag ain by the people with a resounding mandate.  \\nInclusive Development and Growth  \\n5. Our humane and inclusive approach to development is a \\nmarked and deliberate departure from the earlier approach of \\n‘provisioning up -to-village level’. Development programmes , in \\nthe last ten years, have targeted each and every household and \\nindividual, through ‘housing for all’, ‘har ghar jal’ , electricity for 3', 'the last ten years, have targeted each and every household and \\nindividual, through ‘housing for all’, ‘har ghar jal’ , electricity for 3 \\n all, cooking gas for all, bank accounts and financial services for \\nall, in record time.  \\n6. The worries about food have been eliminated through free \\nration for 80 crore people. Minimum support prices for the \\nproduce of ‘Annadata’    are periodically increased appropriately. \\nThese and the provision of basic necessities have enhanced real \\nincome in the rural areas. Their econo mic needs could be \\naddressed, thus spurring growth and generating jobs.   \\nSocial Justice   \\n7. Our Government  is working with an approach to \\ndevelopment that is  all-round, all -pervasive and all -inclusive', 'addressed, thus spurring growth and generating jobs.   \\nSocial Justice   \\n7. Our Government  is working with an approach to \\ndevelopment that is  all-round, all -pervasive and all -inclusive \\n(सर्वांगीण , सर्वस्पर्शी  और सर्वसमवर्ेर्शी ). It covers all castes and \\npeople at all levels. We are working to make India a ‘Viksit \\nBharat’ by 2047. For achieving that goal, we need to improve \\npeople’s capability and empower them.  \\n8. Previously, social justice was mostly a political slogan. For \\nour Gov ernment, social justice is an effective and necessary \\ngovernance model. The saturation approach of covering all \\neligible people is the true and comprehensive achievement of \\nsocial justice. This is secularism in action, reduces corruption,', 'governance model. The saturation approach of covering all \\neligible people is the true and comprehensive achievement of \\nsocial justice. This is secularism in action, reduces corruption, \\nand prevents nepo tism (भवई-भतीजवर्वद ). There is transparency \\nand assurance that benefits are delivered to all eligible people.  \\nThe resources are distributed fairly . All, regardless of their social \\nstanding, get access to opportunities. We are addressing \\nsystemic inequaliti es that had plagued our society. We focus on 4 \\n outcomes and not on outlays so that the socio -economic \\ntransformation is achieved.   \\n9. As our Prime Minister firmly believes , we need to focus on \\nfour major castes. They are, ‘Garib’ (Poor) , ‘Mahilayen’ \\n(Women),  ‘Yuva’  (Youth) and   ‘Annadata’ (Farmer). Their needs,', '9. As our Prime Minister firmly believes , we need to focus on \\nfour major castes. They are, ‘Garib’ (Poor) , ‘Mahilayen’ \\n(Women),  ‘Yuva’  (Youth) and   ‘Annadata’ (Farmer). Their needs, \\ntheir aspirations, and their welfare are our highest priority. The \\ncountry progresses, when they progress. All four require and \\nreceive government support in their quest to better their lives. \\nTheir empo werment and well -being will drive the country \\nforward.  \\nGarib Kalyan, Desh ka Kalyan  \\n10. We believe in empowering the poor. The earlier approach \\nof tackling poverty through entitlements had resulted in very \\nmodest outcomes. When the poor become empowered partners \\nin the development process, government’s power to assist them \\nalso increases mani fold. With the pursuit of ‘Sabka ka Saath’  in', 'modest outcomes. When the poor become empowered partners \\nin the development process, government’s power to assist them \\nalso increases mani fold. With the pursuit of ‘Sabka ka Saath’  in \\nthese 10 years , the Government has assisted 25 crore people to \\nget freedom from multi -dimensional poverty. Our Government’s \\nefforts are now getting synergized with energy and passion of \\nsuch empowered people. T his is truly elevating them from \\npoverty.   \\n11. ‘Direct Benefit Transfer’ of ` 34 lakh crore from the \\nGovernment using PM -Jan Dhan accounts has led to savings of  \\n` 2.7 lakh crore  for the Government . This has been realized 5 \\n through avoidance of leakages prevale nt earlier. The savings \\nhave helped in providing more funds for ‘Garib Kalyan’.']\n"
     ]
    }
   ],
   "source": [
    "from langchain.text_splitter import CharacterTextSplitter\n",
    "text_splitter = CharacterTextSplitter(\n",
    "    separator=\"\\n\",\n",
    "    chunk_size=800,\n",
    "    chunk_overlap= 200,\n",
    "    length_function =len\n",
    ")\n",
    "\n",
    "texts= text_splitter.split_text(raw_text)\n",
    "print(texts[:10])"
   ]
  },
  {
   "cell_type": "code",
   "execution_count": 39,
   "metadata": {},
   "outputs": [
    {
     "name": "stdout",
     "output_type": "stream",
     "text": [
      " Inserted 10 headlines\n"
     ]
    }
   ],
   "source": [
    "astra_vector_store.add_texts(texts[:10])\n",
    "print(\" Inserted %i headlines\" %len(texts[:10]))\n",
    "astra_vector_index = VectorStoreIndexWrapper(vectorstore=astra_vector_store)\n"
   ]
  },
  {
   "cell_type": "code",
   "execution_count": 42,
   "metadata": {},
   "outputs": [
    {
     "name": "stdout",
     "output_type": "stream",
     "text": [
      "\\ANSWER: \"The four major castes mentioned in the context are 'Garib' (Poor), 'Mahilayen' (Women), 'Yuva' (Youth), and 'Annadata' (Farmer).\"\n",
      "\\FIRST DOCUMENT BY RELEVANCE:\n",
      " [0.9154] \" 9. As our Prime Minister firmly believes , we need to focus on \n",
      "four major castes. T ...\"\n",
      " [0.9154] \" 9. As our Prime Minister firmly believes , we need to focus on \n",
      "four major castes. T ...\"\n",
      " [0.9154] \" 9. As our Prime Minister firmly believes , we need to focus on \n",
      "four major castes. T ...\"\n",
      " [0.9154] \" 9. As our Prime Minister firmly believes , we need to focus on \n",
      "four major castes. T ...\"\n"
     ]
    }
   ],
   "source": [
    "first_question = True\n",
    "query_text = input(\"\\n Enter your first question or type QUIT to exit\").strip()\n",
    "answer = astra_vector_index.query(query_text, llm=llm).strip()\n",
    "print(\"\\ANSWER: \\\"%s\\\"\" % answer)\n",
    "\n",
    "\n",
    "# while True:\n",
    "#     if first_question:\n",
    "#         query_text = input(\"\\n Enter your first question or type QUIT to exit\").strip()\n",
    "#         first_question= False\n",
    "#     else:\n",
    "#         query_text = input(\"\\n Enter your next question or type QUIT to exit\").strip()\n",
    "    \n",
    "#     if query_text.lower() == \"quit\":\n",
    "#         break\n",
    "\n",
    "#     print(query_text)\n",
    "#     if query_text == \"\":\n",
    "#         continue\n",
    "    \n",
    "# first_question = False\n",
    "\n",
    "# print(\"\\nQUESTION: \\\"%s\\\"\" % query_text)\n",
    "# answer = astra_vector_index.query(query_text, llm=llm).strip()\n",
    "# print(\"\\ANSWER: \\\"%s\\\"\" % answer)\n",
    "\n",
    "print(\"\\FIRST DOCUMENT BY RELEVANCE:\")\n",
    "for doc , score in astra_vector_store.similarity_search_with_score(query_text,k=4):\n",
    "    print(\" [%0.4f] \\\" %s ...\\\"\" %(score,doc.page_content[:84]))\n",
    "\n",
    "\n",
    "\n",
    "\n",
    "\n"
   ]
  }
 ],
 "metadata": {
  "kernelspec": {
   "display_name": ".venv",
   "language": "python",
   "name": "python3"
  },
  "language_info": {
   "codemirror_mode": {
    "name": "ipython",
    "version": 3
   },
   "file_extension": ".py",
   "mimetype": "text/x-python",
   "name": "python",
   "nbconvert_exporter": "python",
   "pygments_lexer": "ipython3",
   "version": "3.11.7"
  }
 },
 "nbformat": 4,
 "nbformat_minor": 2
}
